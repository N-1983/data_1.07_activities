{
  "nbformat": 4,
  "nbformat_minor": 0,
  "metadata": {
    "colab": {
      "name": "activity 1.07.ipynb",
      "provenance": []
    },
    "kernelspec": {
      "name": "python3",
      "display_name": "Python 3"
    },
    "language_info": {
      "name": "python"
    }
  },
  "cells": [
    {
      "cell_type": "code",
      "metadata": {
        "id": "vYq1c9uFj5BY"
      },
      "source": [
        "import pandas as pd\n",
        "import numpy as np\n",
        "import matplotlib.pyplot as plt\n",
        "import seaborn as sns\n",
        "%matplotlib inline"
      ],
      "execution_count": 1,
      "outputs": []
    },
    {
      "cell_type": "code",
      "metadata": {
        "id": "EA_msmNUkmXu"
      },
      "source": [
        "data = pd.read_csv('regression_data.csv')"
      ],
      "execution_count": 2,
      "outputs": []
    },
    {
      "cell_type": "code",
      "metadata": {
        "colab": {
          "base_uri": "https://localhost:8080/",
          "height": 403
        },
        "id": "HUEejhRMlCkj",
        "outputId": "6fba6022-7b89-432f-8004-4737ae913c19"
      },
      "source": [
        "def log_transfom_clean_(x):\n",
        "    x = np.log10(x)\n",
        "    if np.isfinite(x):\n",
        "        return x\n",
        "    else:\n",
        "        return np.NAN \n",
        "data['IC3_log'] = list(map(log_transfom_clean_, data['IC3']))\n",
        "data['IC3_log'] = data['IC3_log'].fillna(np.mean(data['IC3_log']))\n",
        "sns.displot(data['IC3_log'])\n",
        "plt.show()"
      ],
      "execution_count": 3,
      "outputs": [
        {
          "output_type": "stream",
          "text": [
            "/usr/local/lib/python3.7/dist-packages/ipykernel_launcher.py:2: RuntimeWarning: divide by zero encountered in log10\n",
            "  \n"
          ],
          "name": "stderr"
        },
        {
          "output_type": "display_data",
          "data": {
            "image/png": "[encoded data removed]",
            "text/plain": [
              "<Figure size 360x360 with 1 Axes>"
            ]
          },
          "metadata": {
            "tags": [],
            "needs_background": "light"
          }
        }
      ]
    },
    {
      "cell_type": "code",
      "metadata": {
        "colab": {
          "base_uri": "https://localhost:8080/",
          "height": 369
        },
        "id": "RtNtGaH0lIyv",
        "outputId": "5ba95757-870a-47ac-d48c-2cf7b09e1f75"
      },
      "source": [
        "iqr = np.percentile(data['IC3_log'],75) - np.percentile(data['IC3_log'],25)\n",
        "upper_limit = np.percentile(data['IC3_log'],75) + 3*iqr\n",
        "lower_limit = np.percentile(data['IC3_log'],25) - 3*iqr\n",
        "data = data[(data['IC3_log']>lower_limit) & (data['IC3_log']<upper_limit)]\n",
        "sns.displot(data['IC3_log'])\n",
        "plt.show()"
      ],
      "execution_count": 4,
      "outputs": [
        {
          "output_type": "display_data",
          "data": {
            "image/png": "[encoded data removed]",
            "text/plain": [
              "<Figure size 360x360 with 1 Axes>"
            ]
          },
          "metadata": {
            "tags": [],
            "needs_background": "light"
          }
        }
      ]
    }
  ]
}